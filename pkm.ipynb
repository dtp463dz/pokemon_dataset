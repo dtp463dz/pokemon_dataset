{
  "cells": [
    {
      "cell_type": "code",
      "execution_count": null,
      "metadata": {
        "colab": {
          "base_uri": "https://localhost:8080/"
        },
        "id": "1vJpnrXacXjK",
        "outputId": "6eaee67b-63d4-4685-96e1-7fdd66806669"
      },
      "outputs": [
        {
          "name": "stdout",
          "output_type": "stream",
          "text": [
            "Requirement already satisfied: requests in /usr/local/lib/python3.10/dist-packages (2.31.0)\n",
            "Requirement already satisfied: beautifulsoup4 in /usr/local/lib/python3.10/dist-packages (4.12.3)\n",
            "Requirement already satisfied: charset-normalizer<4,>=2 in /usr/local/lib/python3.10/dist-packages (from requests) (3.3.2)\n",
            "Requirement already satisfied: idna<4,>=2.5 in /usr/local/lib/python3.10/dist-packages (from requests) (3.7)\n",
            "Requirement already satisfied: urllib3<3,>=1.21.1 in /usr/local/lib/python3.10/dist-packages (from requests) (2.0.7)\n",
            "Requirement already satisfied: certifi>=2017.4.17 in /usr/local/lib/python3.10/dist-packages (from requests) (2024.6.2)\n",
            "Requirement already satisfied: soupsieve>1.2 in /usr/local/lib/python3.10/dist-packages (from beautifulsoup4) (2.5)\n"
          ]
        }
      ],
      "source": [
        "pip install requests beautifulsoup4"
      ]
    },
    {
      "cell_type": "code",
      "source": [
        "import requests\n",
        "from bs4 import BeautifulSoup\n",
        "import csv\n",
        "\n",
        "# Tải trang web\n",
        "url = 'https://pokemondb.net/pokedex/all'\n",
        "response = requests.get(url)\n",
        "html_content = response.content\n",
        "\n",
        "# Phân tích HTML\n",
        "soup = BeautifulSoup(html_content, 'html.parser')\n",
        "\n",
        "# Tìm tất cả các dòng dữ liệu Pokemon\n",
        "pokemon_rows = soup.select('tr')[1:]  # Bỏ qua dòng đầu tiên (tiêu đề)\n",
        "\n",
        "# Mở file CSV để ghi dữ liệu\n",
        "with open('pokemon_data_22.csv', mode='w', newline='', encoding='utf-8') as file:\n",
        "    writer = csv.writer(file)\n",
        "\n",
        "    # Viết tiêu đề cho các cột\n",
        "    writer.writerow(['#', 'Name', 'Type1', 'Type2', 'Total', 'HP', 'Attack', 'Defense', 'Sp.Atk', 'Sp.Def', 'Speed'])\n",
        "\n",
        "    # Lặp qua từng dòng dữ liệu Pokemon\n",
        "    for row in pokemon_rows:\n",
        "        cells = row.select('td')\n",
        "\n",
        "        # Trích xuất thông tin cần thiết\n",
        "        pokedex_number = cells[0].select_one('span.infocard-cell-data').text\n",
        "        name = cells[1].select_one('a.ent-name').text.strip()\n",
        "        types = [type.text for type in cells[2].select('a.type-icon')]\n",
        "        stats = [stat.text for stat in cells[3:]]\n",
        "\n",
        "        # Ghi dữ liệu vào file CSV\n",
        "        writer.writerow([\n",
        "            pokedex_number,\n",
        "            name,\n",
        "            types[0] if len(types) > 0 else '',\n",
        "            types[1] if len(types) > 1 else '',\n",
        "            stats[0],  # Total\n",
        "            stats[1],  # HP\n",
        "            stats[2],  # Attack\n",
        "            stats[3],  # Defense\n",
        "            stats[4],  # Sp.Atk\n",
        "            stats[5],  # Sp.Def\n",
        "            stats[6]   # Speed\n",
        "        ])"
      ],
      "metadata": {
        "id": "CWPh3lpy-80T"
      },
      "execution_count": 2,
      "outputs": []
    }
  ],
  "metadata": {
    "colab": {
      "provenance": []
    },
    "kernelspec": {
      "display_name": "Python 3",
      "name": "python3"
    },
    "language_info": {
      "name": "python"
    }
  },
  "nbformat": 4,
  "nbformat_minor": 0
}